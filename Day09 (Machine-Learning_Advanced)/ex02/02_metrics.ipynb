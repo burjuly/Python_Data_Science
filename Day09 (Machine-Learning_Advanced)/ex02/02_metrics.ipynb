{
 "cells": [
  {
   "cell_type": "code",
   "execution_count": 1,
   "metadata": {
    "id": "0ZyPFBz8acRj"
   },
   "outputs": [],
   "source": [
    "import pandas as pd\n",
    "import sqlite3\n",
    "import numpy as np\n",
    "from sklearn.preprocessing import OneHotEncoder\n",
    "from sklearn.model_selection import train_test_split\n",
    "from sklearn.svm import SVC\n",
    "from sklearn.tree import DecisionTreeClassifier\n",
    "from sklearn.ensemble import RandomForestClassifier\n",
    "from sklearn.metrics import accuracy_score, precision_score, recall_score, roc_auc_score"
   ]
  },
  {
   "cell_type": "code",
   "execution_count": 3,
   "metadata": {
    "id": "G1ITxuXXask7"
   },
   "outputs": [],
   "source": [
    "df = pd.read_csv('../data/dayofweek-not-scaled.csv')\n",
    "y = df['dayofweek'].values\n",
    "x = df.drop(columns='dayofweek')"
   ]
  },
  {
   "cell_type": "code",
   "execution_count": 4,
   "metadata": {
    "id": "jNfHpCzsbzmj"
   },
   "outputs": [],
   "source": [
    "x_train, x_test, y_train, y_test = train_test_split(x, y, test_size=0.2, random_state=21, stratify=y)"
   ]
  },
  {
   "cell_type": "markdown",
   "metadata": {
    "id": "mtoxnxQxeHCs"
   },
   "source": [
    "## SVC\n",
    "## take the best parameters from the previous exercise and train the model\n",
    "## your code from the cell should calculate accuracy, precision, recall, ROC AUC\n",
    "## precision and recall should be calculated for each class (use average=’weighted’)\n"
   ]
  },
  {
   "cell_type": "code",
   "execution_count": 5,
   "metadata": {
    "colab": {
     "base_uri": "https://localhost:8080/"
    },
    "id": "D3nuDj0KeWt-",
    "outputId": "b0fdf3c3-5225-4268-88f4-8646939f3f35"
   },
   "outputs": [
    {
     "name": "stdout",
     "output_type": "stream",
     "text": [
      "accuracy is 0.88757\n",
      "precision is 0.89267\n",
      "recall is 0.88757\n",
      "roc_auc is 0.97751\n"
     ]
    }
   ],
   "source": [
    "svc = SVC(kernel='rbf', gamma='auto', C=10, class_weight=None, random_state=21, probability=True)\n",
    "svc.fit(x_train, y_train)\n",
    "predict = svc.predict(x_test)\n",
    "print(f'accuracy is {accuracy_score(y_test, predict):.5f}')\n",
    "print(f'precision is {precision_score(y_test, predict, average=\"weighted\"):.5f}')\n",
    "print(f'recall is {recall_score(y_test, predict, average=\"weighted\"):.5f}')\n",
    "print(f'roc_auc is {roc_auc_score(y_test, svc.predict_proba(x_test), multi_class=\"ovr\"):.5f}')\n"
   ]
  },
  {
   "cell_type": "markdown",
   "metadata": {
    "id": "oCaHiQtcgYkI"
   },
   "source": [
    "## Decision tree\n",
    "## take the best parameters from the previous exercise and train the model\n",
    "## your code from the cell should calculate accuracy, precision, recall, ROC AUC\n",
    "## precision and recall should be calculated for each class (use average=’weighted’)\n"
   ]
  },
  {
   "cell_type": "code",
   "execution_count": 6,
   "metadata": {
    "colab": {
     "base_uri": "https://localhost:8080/"
    },
    "id": "_ql_dM29gihP",
    "outputId": "85436418-a27d-4030-9b58-f8d67ebdbe45"
   },
   "outputs": [
    {
     "name": "stdout",
     "output_type": "stream",
     "text": [
      "accuracy is 0.88462\n",
      "precision is 0.88765\n",
      "recall is 0.88462\n",
      "roc_auc is 0.93459\n"
     ]
    }
   ],
   "source": [
    "dt = DecisionTreeClassifier(random_state=21, class_weight='balanced', criterion='gini', max_depth=21)\n",
    "dt.fit(x_train, y_train)\n",
    "predict = dt.predict(x_test)\n",
    "print(f'accuracy is {accuracy_score(y_test, predict):.5f}')\n",
    "print(f'precision is {precision_score(y_test, predict, average=\"weighted\"):.5f}')\n",
    "print(f'recall is {recall_score(y_test, predict, average=\"weighted\"):.5f}')\n",
    "print(f'roc_auc is {roc_auc_score(y_test, dt.predict_proba(x_test), multi_class=\"ovr\"):.5f}')\n"
   ]
  },
  {
   "cell_type": "markdown",
   "metadata": {
    "id": "ryzZR0FzhVLg"
   },
   "source": [
    "## Random forest\n",
    "## take the best parameters from the previous exercise and train the model\n",
    "## calculate accuracy, precision, recall, ROC AUC\n",
    "## precision and recall should be calculated for each class (use average=’weighted’)\n"
   ]
  },
  {
   "cell_type": "code",
   "execution_count": 7,
   "metadata": {
    "colab": {
     "base_uri": "https://localhost:8080/"
    },
    "id": "58ihUYwKhgWA",
    "outputId": "96396d77-02ef-40bf-9b13-ee467150a840"
   },
   "outputs": [
    {
     "name": "stdout",
     "output_type": "stream",
     "text": [
      "accuracy is 0.88462\n",
      "precision is 0.88765\n",
      "recall is 0.88462\n",
      "roc_auc is 0.98834\n"
     ]
    }
   ],
   "source": [
    "rf = RandomForestClassifier(n_estimators=100, criterion='entropy', max_depth=24, class_weight='balanced', random_state=21)\n",
    "rf.fit(x_train, y_train)\n",
    "predict = dt.predict(x_test)\n",
    "print(f'accuracy is {accuracy_score(y_test, predict):.5f}')\n",
    "print(f'precision is {precision_score(y_test, predict, average=\"weighted\"):.5f}')\n",
    "print(f'recall is {recall_score(y_test, predict, average=\"weighted\"):.5f}')\n",
    "print(f'roc_auc is {roc_auc_score(y_test, rf.predict_proba(x_test), multi_class=\"ovr\"):.5f}')"
   ]
  },
  {
   "cell_type": "markdown",
   "metadata": {
    "id": "eaSiDP0EiklJ"
   },
   "source": [
    "## predictions"
   ]
  },
  {
   "cell_type": "code",
   "execution_count": 10,
   "metadata": {
    "colab": {
     "base_uri": "https://localhost:8080/"
    },
    "id": "TcPGgNuvioeU",
    "outputId": "54c17f97-4901-457d-d35d-0727a0ff766f"
   },
   "outputs": [
    {
     "name": "stdout",
     "output_type": "stream",
     "text": [
      "Final accuracy: 0.92604\n"
     ]
    }
   ],
   "source": [
    "rf = RandomForestClassifier(n_estimators=100, criterion='entropy', max_depth=24, class_weight='balanced', random_state=21)\n",
    "rf.fit(x_train, y_train)\n",
    "predict = dt.predict(x_test)\n",
    "print(f'Final accuracy: {rf.score(x_test, y_test):.5f}')"
   ]
  },
  {
   "cell_type": "code",
   "execution_count": null,
   "metadata": {},
   "outputs": [],
   "source": []
  }
 ],
 "metadata": {
  "colab": {
   "name": "Untitled4.ipynb",
   "provenance": []
  },
  "kernelspec": {
   "display_name": "Python 3",
   "language": "python",
   "name": "python3"
  },
  "language_info": {
   "codemirror_mode": {
    "name": "ipython",
    "version": 3
   },
   "file_extension": ".py",
   "mimetype": "text/x-python",
   "name": "python",
   "nbconvert_exporter": "python",
   "pygments_lexer": "ipython3",
   "version": "3.9.2"
  }
 },
 "nbformat": 4,
 "nbformat_minor": 1
}
