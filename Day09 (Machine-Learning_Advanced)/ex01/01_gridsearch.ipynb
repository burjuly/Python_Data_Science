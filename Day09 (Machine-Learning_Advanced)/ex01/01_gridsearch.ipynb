{
 "cells": [
  {
   "cell_type": "code",
   "execution_count": 2,
   "metadata": {
    "id": "jU44Yweah-mN"
   },
   "outputs": [],
   "source": [
    "import pandas as pd\n",
    "import numpy as np\n",
    "import sqlite3\n",
    "from sklearn.linear_model import LogisticRegression\n",
    "from sklearn.svm import SVC\n",
    "from sklearn.tree import DecisionTreeClassifier\n",
    "from sklearn.ensemble import RandomForestClassifier\n",
    "from sklearn.model_selection import train_test_split, KFold, StratifiedKFold, GridSearchCV, cross_val_score\n",
    "from sklearn.metrics import accuracy_score\n",
    "from tqdm import tqdm\n",
    "from time import sleep \n",
    "import pickle"
   ]
  },
  {
   "cell_type": "markdown",
   "metadata": {
    "id": "wYikPadHinp1"
   },
   "source": [
    "## data preparation"
   ]
  },
  {
   "cell_type": "code",
   "execution_count": 3,
   "metadata": {
    "id": "vDvcrKeQjZDq"
   },
   "outputs": [],
   "source": [
    "df = pd.read_csv('../data/dayofweek-not-scaled.csv')\n",
    "y = df['dayofweek'].values\n",
    "x = df.drop(columns='dayofweek')"
   ]
  },
  {
   "cell_type": "markdown",
   "metadata": {
    "id": "WShjUQwTl9og"
   },
   "source": [
    "## Using train_test_split with parameters test_size=0.2, random_state=21 get X_train, y_train, X_test, y_test. Use the additional parameter stratify."
   ]
  },
  {
   "cell_type": "code",
   "execution_count": 4,
   "metadata": {
    "id": "5r5R6nsZmNIb"
   },
   "outputs": [],
   "source": [
    "x_train, x_test, y_train, y_test = train_test_split(x, y, test_size=0.2, random_state=21, stratify=y)"
   ]
  },
  {
   "cell_type": "markdown",
   "metadata": {
    "id": "YX85kML7mbqj"
   },
   "source": [
    "## Using GridSearchCV try different parameters of kernel (linear, rbf, sigmoid), C (0.01, 0.1, 1, 1.5, 5, 10), gamma (scale, auto), class_weight (balanced, None) use random_state=21 and probability=True and get the best combination of them in terms of accuracy.\n",
    "## Create a dataframe from the results of the gridsearch and sort it ascendingly by the rank_test_score. "
   ]
  },
  {
   "cell_type": "code",
   "execution_count": null,
   "metadata": {
    "colab": {
     "base_uri": "https://localhost:8080/"
    },
    "id": "54m13tWGmk46",
    "outputId": "31560946-a321-402b-dc42-ce13a3965ea6"
   },
   "outputs": [
    {
     "name": "stdout",
     "output_type": "stream",
     "text": [
      "Fitting 5 folds for each of 72 candidates, totalling 360 fits\n"
     ]
    }
   ],
   "source": [
    "svc = SVC(random_state=21, probability=True)\n",
    "params = {'kernel': ['linear', 'rbf', 'sigmoid'], \n",
    "               'gamma': ['scale', 'auto'],\n",
    "               'C': [0.01, 0.1, 1, 1.5, 5, 10],\n",
    "               'class_weight': ['balanced', None]}\n",
    "grid_search = GridSearchCV(svc, params, verbose=1)\n",
    "grid_search.fit(x_train, y_train)"
   ]
  },
  {
   "cell_type": "code",
   "execution_count": null,
   "metadata": {
    "id": "uz7M2jbztLpA"
   },
   "outputs": [],
   "source": [
    "df = pd.DataFrame(grid_search.cv_results_).sort_values('rank_test_score')\n",
    "df.to_csv('../data/cv_results_SVC.csv')"
   ]
  },
  {
   "cell_type": "markdown",
   "metadata": {
    "id": "gMh2sI6p1rXP"
   },
   "source": [
    "## Decision tree\n",
    "## Using GridSearchCV try different parameters of max_depth (from 1 to 49), class_weight (balanced, None) and criterion (entropy and gini) and get the best combination of them in terms of accuracy. Use random_state=21.\n",
    "## Create a dataframe from the results of the gridsearch and sort it ascendingly by the rank_test_score."
   ]
  },
  {
   "cell_type": "code",
   "execution_count": 8,
   "metadata": {
    "colab": {
     "base_uri": "https://localhost:8080/"
    },
    "id": "LUffOUtn1-Sy",
    "outputId": "14abfa4a-32d5-4445-db2e-517d1df6f02c"
   },
   "outputs": [
    {
     "data": {
      "text/plain": [
       "GridSearchCV(estimator=DecisionTreeClassifier(random_state=21),\n",
       "             param_grid={'class_weight': ['balanced', None],\n",
       "                         'criterion': ['entropy', 'gini'],\n",
       "                         'max_depth': [1, 2, 3, 4, 5, 6, 7, 8, 9, 10, 11, 12,\n",
       "                                       13, 14, 15, 16, 17, 18, 19, 20, 21, 22,\n",
       "                                       23, 24, 25, 26, 27, 28, 29, 30, ...]})"
      ]
     },
     "execution_count": 8,
     "metadata": {},
     "output_type": "execute_result"
    }
   ],
   "source": [
    "params = {'max_depth': list(range(1, 50)),  'class_weight': ['balanced', None], 'criterion': ['entropy', 'gini']}\n",
    "model = DecisionTreeClassifier(random_state=21)\n",
    "grid_search = GridSearchCV(model, params)\n",
    "grid_search.fit(x_train, y_train)"
   ]
  },
  {
   "cell_type": "code",
   "execution_count": 10,
   "metadata": {
    "id": "zi56E77l3Bje"
   },
   "outputs": [],
   "source": [
    "df = pd.DataFrame(grid_search.cv_results_).sort_values('rank_test_score')\n",
    "df.to_csv('../data/cv_results_decision_tree.csv')"
   ]
  },
  {
   "cell_type": "markdown",
   "metadata": {
    "id": "Adj8BFBe3ZEk"
   },
   "source": [
    "## Random forest\n",
    "\n",
    "## Using GridSearchCV try different parameters of n_estimators (5, 10, 50, 100), max_depth (from 1 to 49), class_weight (balanced, None) and criterion (entropy and gini) and get the best combination of them in terms of accuracy. Use random_state=21.\n",
    "## Create a dataframe from the results of the gridsearch and sort it ascendengly by the rank_test_score"
   ]
  },
  {
   "cell_type": "code",
   "execution_count": 11,
   "metadata": {
    "colab": {
     "base_uri": "https://localhost:8080/"
    },
    "id": "HTu2hPmv3gVp",
    "outputId": "0c86df21-2e5d-4f19-9fb3-31d5f37adbc4"
   },
   "outputs": [
    {
     "data": {
      "text/plain": [
       "GridSearchCV(estimator=RandomForestClassifier(random_state=21),\n",
       "             param_grid={'class_weight': ['balanced', None],\n",
       "                         'criterion': ['entropy', 'gini'],\n",
       "                         'max_depth': [1, 2, 3, 4, 5, 6, 7, 8, 9, 10, 11, 12,\n",
       "                                       13, 14, 15, 16, 17, 18, 19, 20, 21, 22,\n",
       "                                       23, 24, 25, 26, 27, 28, 29, 30, ...],\n",
       "                         'n_estimators': [5, 10, 50, 100]})"
      ]
     },
     "execution_count": 11,
     "metadata": {},
     "output_type": "execute_result"
    }
   ],
   "source": [
    "params = {'n_estimators': [5, 10, 50, 100], 'max_depth': list(range(1, 50)), 'class_weight': ['balanced', None], \n",
    "'criterion': ['entropy', 'gini']}\n",
    "model = RandomForestClassifier(random_state=21)\n",
    "grid_search = GridSearchCV(model, params)\n",
    "grid_search.fit(x_train, y_train)\n"
   ]
  },
  {
   "cell_type": "code",
   "execution_count": 58,
   "metadata": {
    "id": "s9Wmw6ay7dcq"
   },
   "outputs": [],
   "source": [
    "df = pd.DataFrame(grid_search.cv_results_).sort_values('rank_test_score')\n",
    "df.to_csv('../data/cv_results_random_forest.csv')"
   ]
  },
  {
   "cell_type": "markdown",
   "metadata": {
    "id": "YTHqHlKZ8iow"
   },
   "source": [
    "## Create a manual gridsearch for the same parameters values of random forest iterating through the list of the possible values and calculating cross_val_score for each combination. Try to increase n_jobs. The value cv for cross_val_score is 5.\n",
    "\n",
    "## Track the progress using the library tqdm.notebook.\n",
    "## Create a dataframe from the results of the gridsearch with the columns corresponding to the names of the parameters and mean_accuracy and std_accuracy.\n",
    "## Sort it descendingly by the mean_accuracy, check if there is a huge difference between different combinations (sometimes a simpler model may give a comparable result)."
   ]
  },
  {
   "cell_type": "code",
   "execution_count": 39,
   "metadata": {
    "id": "Tlo0OPkL83WA"
   },
   "outputs": [],
   "source": [
    "params = {'n_estimators': [5, 10, 50, 100], 'max_depth': list(range(1, 50)), 'class_weight': ['balanced', None], \n",
    "'criterion': ['entropy', 'gini'], 'random_state': [21]}\n",
    "model = RandomForestClassifier(random_state=21)"
   ]
  },
  {
   "cell_type": "code",
   "execution_count": 66,
   "metadata": {
    "colab": {
     "base_uri": "https://localhost:8080/"
    },
    "id": "14Yg2-27EgIW",
    "outputId": "2bbe3787-180e-4135-a844-2f5a9331f0ce"
   },
   "outputs": [
    {
     "name": "stderr",
     "output_type": "stream",
     "text": [
      "\n",
      "\n",
      "\n",
      "\n",
      "\n",
      "  0%|          | 0/4 [00:00<?, ?it/s]\u001b[A\u001b[A\u001b[A\u001b[A\u001b[A\n",
      "\n",
      "\n",
      "\n",
      "\n",
      " 25%|██▌       | 1/4 [00:06<00:20,  6.75s/it]\u001b[A\u001b[A\u001b[A\u001b[A\u001b[A\n",
      "\n",
      "\n",
      "\n",
      "\n",
      " 50%|█████     | 2/4 [00:17<00:16,  8.06s/it]\u001b[A\u001b[A\u001b[A\u001b[A\u001b[A\n",
      "\n",
      "\n",
      "\n",
      "\n",
      " 75%|███████▌  | 3/4 [01:04<00:19, 19.55s/it]\u001b[A\u001b[A\u001b[A\u001b[A\u001b[A\n",
      "\n",
      "\n",
      "\n",
      "\n",
      "100%|██████████| 4/4 [02:34<00:00, 38.64s/it]\n"
     ]
    }
   ],
   "source": [
    "res = []\n",
    "for n in tqdm(params['n_estimators']):\n",
    "    for m in params['max_depth']:\n",
    "        for c in params['class_weight']:  \n",
    "            for cr in params['criterion']: \n",
    "                parameters = {'n_estimators': n, \n",
    "                                'max_depth': m, \n",
    "                                'class_weight': c, \n",
    "                                'criterion': cr, \n",
    "                                'random_state': 21}\n",
    "                model = RandomForestClassifier(**parameters)\n",
    "                cvs = cross_val_score(model, x_train, y_train, cv=5)\n",
    "                res.append([n, m, c, cr, 21, np.mean(cvs), np.std(cvs)])\n"
   ]
  },
  {
   "cell_type": "code",
   "execution_count": 67,
   "metadata": {
    "colab": {
     "base_uri": "https://localhost:8080/",
     "height": 423
    },
    "id": "j6UgI4noQ3sj",
    "outputId": "cad4e105-c522-4da1-c86e-99b4dcbd6b8d"
   },
   "outputs": [
    {
     "data": {
      "text/html": [
       "<div>\n",
       "<style scoped>\n",
       "    .dataframe tbody tr th:only-of-type {\n",
       "        vertical-align: middle;\n",
       "    }\n",
       "\n",
       "    .dataframe tbody tr th {\n",
       "        vertical-align: top;\n",
       "    }\n",
       "\n",
       "    .dataframe thead th {\n",
       "        text-align: right;\n",
       "    }\n",
       "</style>\n",
       "<table border=\"1\" class=\"dataframe\">\n",
       "  <thead>\n",
       "    <tr style=\"text-align: right;\">\n",
       "      <th></th>\n",
       "      <th>n_estimators</th>\n",
       "      <th>max_depth</th>\n",
       "      <th>class_weight</th>\n",
       "      <th>criterion</th>\n",
       "      <th>random_state</th>\n",
       "      <th>mean_accuracy</th>\n",
       "      <th>std_accuracy</th>\n",
       "    </tr>\n",
       "  </thead>\n",
       "  <tbody>\n",
       "    <tr>\n",
       "      <th>698</th>\n",
       "      <td>100</td>\n",
       "      <td>28</td>\n",
       "      <td>None</td>\n",
       "      <td>entropy</td>\n",
       "      <td>21</td>\n",
       "      <td>0.874629</td>\n",
       "      <td>0.009644</td>\n",
       "    </tr>\n",
       "    <tr>\n",
       "      <th>702</th>\n",
       "      <td>100</td>\n",
       "      <td>29</td>\n",
       "      <td>None</td>\n",
       "      <td>entropy</td>\n",
       "      <td>21</td>\n",
       "      <td>0.874629</td>\n",
       "      <td>0.009644</td>\n",
       "    </tr>\n",
       "    <tr>\n",
       "      <th>718</th>\n",
       "      <td>100</td>\n",
       "      <td>33</td>\n",
       "      <td>None</td>\n",
       "      <td>entropy</td>\n",
       "      <td>21</td>\n",
       "      <td>0.874629</td>\n",
       "      <td>0.009644</td>\n",
       "    </tr>\n",
       "    <tr>\n",
       "      <th>694</th>\n",
       "      <td>100</td>\n",
       "      <td>27</td>\n",
       "      <td>None</td>\n",
       "      <td>entropy</td>\n",
       "      <td>21</td>\n",
       "      <td>0.873887</td>\n",
       "      <td>0.008902</td>\n",
       "    </tr>\n",
       "    <tr>\n",
       "      <th>706</th>\n",
       "      <td>100</td>\n",
       "      <td>30</td>\n",
       "      <td>None</td>\n",
       "      <td>entropy</td>\n",
       "      <td>21</td>\n",
       "      <td>0.873887</td>\n",
       "      <td>0.008902</td>\n",
       "    </tr>\n",
       "    <tr>\n",
       "      <th>...</th>\n",
       "      <td>...</td>\n",
       "      <td>...</td>\n",
       "      <td>...</td>\n",
       "      <td>...</td>\n",
       "      <td>...</td>\n",
       "      <td>...</td>\n",
       "      <td>...</td>\n",
       "    </tr>\n",
       "    <tr>\n",
       "      <th>4</th>\n",
       "      <td>5</td>\n",
       "      <td>2</td>\n",
       "      <td>balanced</td>\n",
       "      <td>entropy</td>\n",
       "      <td>21</td>\n",
       "      <td>0.309347</td>\n",
       "      <td>0.009644</td>\n",
       "    </tr>\n",
       "    <tr>\n",
       "      <th>197</th>\n",
       "      <td>10</td>\n",
       "      <td>1</td>\n",
       "      <td>balanced</td>\n",
       "      <td>gini</td>\n",
       "      <td>21</td>\n",
       "      <td>0.297478</td>\n",
       "      <td>0.060089</td>\n",
       "    </tr>\n",
       "    <tr>\n",
       "      <th>196</th>\n",
       "      <td>10</td>\n",
       "      <td>1</td>\n",
       "      <td>balanced</td>\n",
       "      <td>entropy</td>\n",
       "      <td>21</td>\n",
       "      <td>0.296736</td>\n",
       "      <td>0.031157</td>\n",
       "    </tr>\n",
       "    <tr>\n",
       "      <th>0</th>\n",
       "      <td>5</td>\n",
       "      <td>1</td>\n",
       "      <td>balanced</td>\n",
       "      <td>entropy</td>\n",
       "      <td>21</td>\n",
       "      <td>0.247774</td>\n",
       "      <td>0.011869</td>\n",
       "    </tr>\n",
       "    <tr>\n",
       "      <th>1</th>\n",
       "      <td>5</td>\n",
       "      <td>1</td>\n",
       "      <td>balanced</td>\n",
       "      <td>gini</td>\n",
       "      <td>21</td>\n",
       "      <td>0.226261</td>\n",
       "      <td>0.000742</td>\n",
       "    </tr>\n",
       "  </tbody>\n",
       "</table>\n",
       "<p>784 rows × 7 columns</p>\n",
       "</div>"
      ],
      "text/plain": [
       "     n_estimators  max_depth  ... mean_accuracy std_accuracy\n",
       "698           100         28  ...      0.874629     0.009644\n",
       "702           100         29  ...      0.874629     0.009644\n",
       "718           100         33  ...      0.874629     0.009644\n",
       "694           100         27  ...      0.873887     0.008902\n",
       "706           100         30  ...      0.873887     0.008902\n",
       "..            ...        ...  ...           ...          ...\n",
       "4               5          2  ...      0.309347     0.009644\n",
       "197            10          1  ...      0.297478     0.060089\n",
       "196            10          1  ...      0.296736     0.031157\n",
       "0               5          1  ...      0.247774     0.011869\n",
       "1               5          1  ...      0.226261     0.000742\n",
       "\n",
       "[784 rows x 7 columns]"
      ]
     },
     "execution_count": 67,
     "metadata": {
      "tags": []
     },
     "output_type": "execute_result"
    }
   ],
   "source": [
    "df = pd.DataFrame(res, columns=['n_estimators', 'max_depth', 'class_weight', 'criterion', 'random_state', 'mean_accuracy', 'std_accuracy'])\n",
    "df.sort_values('mean_accuracy', ascending=False)"
   ]
  },
  {
   "cell_type": "markdown",
   "metadata": {
    "id": "yR97DECTXwoV"
   },
   "source": [
    "## Predictions\n",
    "## Choose the best model and use it to make predictions for the test dataset.\n",
    "## Calculate the final accuracy."
   ]
  },
  {
   "cell_type": "code",
   "execution_count": 57,
   "metadata": {
    "colab": {
     "base_uri": "https://localhost:8080/"
    },
    "id": "Qku2t_yeXt3l",
    "outputId": "6f3b11c4-62c3-4bc9-ab90-de5efaa23265"
   },
   "outputs": [
    {
     "name": "stdout",
     "output_type": "stream",
     "text": [
      "Final accuracy: 0.9349112426035503\n"
     ]
    }
   ],
   "source": [
    "rfc = RandomForestClassifier(n_estimators=100, criterion='gini', max_depth=30, class_weight=None, random_state=21\n",
    ").fit(x_train, y_train)\n",
    "print(f'Final accuracy: {rfc.score(x_test, y_test)}')"
   ]
  }
 ],
 "metadata": {
  "colab": {
   "collapsed_sections": [],
   "name": "Untitled2.ipynb",
   "provenance": []
  },
  "kernelspec": {
   "display_name": "Python 3",
   "language": "python",
   "name": "python3"
  },
  "language_info": {
   "codemirror_mode": {
    "name": "ipython",
    "version": 3
   },
   "file_extension": ".py",
   "mimetype": "text/x-python",
   "name": "python",
   "nbconvert_exporter": "python",
   "pygments_lexer": "ipython3",
   "version": "3.9.2"
  }
 },
 "nbformat": 4,
 "nbformat_minor": 1
}
