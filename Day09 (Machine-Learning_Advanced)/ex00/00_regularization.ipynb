{
 "cells": [
  {
   "cell_type": "code",
   "execution_count": 1,
   "metadata": {
    "id": "L2sXNddTYbkh"
   },
   "outputs": [],
   "source": [
    "import pandas as pd\n",
    "import numpy as np\n",
    "from sklearn.linear_model import LogisticRegression\n",
    "from sklearn.svm import SVC\n",
    "from sklearn.tree import DecisionTreeClassifier\n",
    "from sklearn.ensemble import RandomForestClassifier\n",
    "from sklearn.model_selection import train_test_split, KFold, StratifiedKFold\n",
    "from sklearn.metrics import accuracy_score\n",
    "import pickle"
   ]
  },
  {
   "cell_type": "markdown",
   "metadata": {
    "id": "QkAKzbiyYuwQ"
   },
   "source": [
    "## data preparation"
   ]
  },
  {
   "cell_type": "code",
   "execution_count": 3,
   "metadata": {
    "id": "q_mQhsOeYnTp"
   },
   "outputs": [],
   "source": [
    "df = pd.read_csv('../data/dayofweek.csv')\n",
    "y = df['dayofweek'].values\n",
    "x = df.drop(columns='dayofweek')"
   ]
  },
  {
   "cell_type": "markdown",
   "metadata": {
    "id": "_GchrhuyfWZz"
   },
   "source": [
    "## Using train_test_split with parameters test_size=0.2, random_state=21 get X_train, y_train, X_test, y_test. Use the additional parameter stratify"
   ]
  },
  {
   "cell_type": "code",
   "execution_count": 4,
   "metadata": {
    "id": "knM1PAlafeK9"
   },
   "outputs": [],
   "source": [
    "x_train, x_test, y_train, y_test = train_test_split(x, y, test_size=0.2, random_state=21, stratify=y)"
   ]
  },
  {
   "cell_type": "markdown",
   "metadata": {
    "id": "zwt0I7MfnTMe"
   },
   "source": [
    "## Use stratified K-fold cross-validation with 10 splits to evaluate the accuracy of the model"
   ]
  },
  {
   "cell_type": "code",
   "execution_count": 14,
   "metadata": {
    "id": "kpVqLkuOnVc2"
   },
   "outputs": [],
   "source": [
    "def cross_validation(model, x, y, kind='short'):\n",
    "    skf = StratifiedKFold(n_splits=10)\n",
    "    scores = []\n",
    "    for train_index, test_index in skf.split(x, y):\n",
    "        x_train, x_test = x.iloc[train_index], x.iloc[test_index]\n",
    "        y_train, y_test = y[train_index], y[test_index]\n",
    "\n",
    "        model.fit(x_train, y_train)\n",
    "        predict_train = model.predict(x_train)\n",
    "        predict_test = model.predict(x_test)\n",
    "\n",
    "        score_train = accuracy_score(y_train, predict_train)\n",
    "        score_test = accuracy_score(y_test, predict_test)\n",
    "        scores.append(score_test)\n",
    "        if kind == 'long':\n",
    "            print(f'train - {score_train:.5f} | test - {score_test:.5f} ')\n",
    "\n",
    "    print(f'Average accuracy on cross-validation is {np.mean(scores):.5f}')\n",
    "    print(f'Std is {np.std(scores):.5f}')\n"
   ]
  },
  {
   "cell_type": "code",
   "execution_count": 15,
   "metadata": {
    "colab": {
     "base_uri": "https://localhost:8080/"
    },
    "id": "SUUwN2J06l_k",
    "outputId": "60d5fb2e-4456-4f3e-dbb6-f7d6204d5305"
   },
   "outputs": [
    {
     "name": "stdout",
     "output_type": "stream",
     "text": [
      "train - 0.62902 | test - 0.59259 \n",
      "train - 0.64633 | test - 0.62963 \n",
      "train - 0.63479 | test - 0.56296 \n",
      "train - 0.65622 | test - 0.61481 \n",
      "train - 0.63397 | test - 0.57778 \n",
      "train - 0.64056 | test - 0.59259 \n",
      "train - 0.64138 | test - 0.65926 \n",
      "train - 0.65952 | test - 0.56296 \n",
      "train - 0.64333 | test - 0.59701 \n",
      "train - 0.63674 | test - 0.62687 \n",
      "Average accuracy on cross-validation is 0.60165\n",
      "Std is 0.02943\n",
      "CPU times: user 1.36 s, sys: 241 ms, total: 1.6 s\n",
      "Wall time: 461 ms\n"
     ]
    }
   ],
   "source": [
    "%%time\n",
    "lr = LogisticRegression(random_state=21, fit_intercept=False)\n",
    "cross_validation(lr, x_train, y_train, 'long')"
   ]
  },
  {
   "cell_type": "markdown",
   "metadata": {
    "id": "ix5EoX0q_GOb"
   },
   "source": [
    "## In the cells below try different values of penalty: none, l1, l2 – you can change the values of solver too."
   ]
  },
  {
   "cell_type": "code",
   "execution_count": 16,
   "metadata": {
    "colab": {
     "base_uri": "https://localhost:8080/"
    },
    "id": "oku2MdFI_Ole",
    "outputId": "eccad0f0-c5cf-4d6c-c180-684f5b9f2d23"
   },
   "outputs": [
    {
     "name": "stdout",
     "output_type": "stream",
     "text": [
      "Solver = newton-cg:\n",
      "Penalty = none:\n",
      "Average accuracy on cross-validation is 0.62462\n",
      "Std is 0.03379\n",
      "--------------------\n",
      "Solver = lbfgs:\n",
      "Penalty = none:\n",
      "Average accuracy on cross-validation is 0.62462\n",
      "Std is 0.03379\n",
      "--------------------\n",
      "Solver = newton-cg:\n",
      "Penalty = l2:\n",
      "Average accuracy on cross-validation is 0.60165\n",
      "Std is 0.02943\n",
      "--------------------\n",
      "Solver = lbfgs:\n",
      "Penalty = l2:\n",
      "Average accuracy on cross-validation is 0.60165\n",
      "Std is 0.02943\n",
      "--------------------\n",
      "Solver = liblinear:\n",
      "Penalty = l2:\n",
      "Average accuracy on cross-validation is 0.58160\n",
      "Std is 0.02532\n",
      "--------------------\n",
      "Solver = sag:\n",
      "Penalty = l2:\n",
      "Average accuracy on cross-validation is 0.60165\n",
      "Std is 0.02943\n",
      "--------------------\n",
      "Solver = saga:\n",
      "Penalty = l2:\n",
      "Average accuracy on cross-validation is 0.60165\n",
      "Std is 0.02943\n",
      "--------------------\n",
      "Solver = liblinear:\n",
      "Penalty = l1:\n",
      "Average accuracy on cross-validation is 0.58903\n",
      "Std is 0.03129\n",
      "--------------------\n",
      "Solver = saga:\n",
      "Penalty = l1:\n",
      "Average accuracy on cross-validation is 0.59646\n",
      "Std is 0.02848\n",
      "--------------------\n"
     ]
    }
   ],
   "source": [
    "dic = {\n",
    "    'none' : ['newton-cg', 'lbfgs'],\n",
    "    'l2' : ['newton-cg', 'lbfgs', 'liblinear', 'sag', 'saga'],\n",
    "    'l1' : ['liblinear', 'saga']\n",
    "}\n",
    "for penalty in ['none', 'l2', 'l1']:\n",
    "    s = dic[penalty]\n",
    "    for solver in s:\n",
    "        print(f'Solver = {solver}:')\n",
    "        print(f'Penalty = {penalty}:')\n",
    "        lr = LogisticRegression(penalty=penalty, solver = solver, random_state=21, fit_intercept=False, max_iter = 10000)\n",
    "        cross_validation(lr, x_train, y_train)\n",
    "        print(\"--------------------\")\n"
   ]
  },
  {
   "cell_type": "markdown",
   "metadata": {
    "id": "8IDuvoduJyOM"
   },
   "source": [
    "## SVM regularization\n",
    "## Train a baseline model with the only parameters probability=True, kernel='linear', random_state=21.\n",
    "## Use stratified K-fold cross-validation with 10 splits to evaluate the accuracy of the model.\n",
    "## The format of the result of the code where you trained and evaluated the baseline model should be similar to what you have got for the logreg."
   ]
  },
  {
   "cell_type": "code",
   "execution_count": 17,
   "metadata": {
    "colab": {
     "base_uri": "https://localhost:8080/"
    },
    "id": "8BZPSwwuKK6A",
    "outputId": "d7b93c5a-84b1-4c13-db03-fd80ffe11ef8"
   },
   "outputs": [
    {
     "name": "stdout",
     "output_type": "stream",
     "text": [
      "train - 0.63726 | test - 0.58519 \n",
      "train - 0.64221 | test - 0.61481 \n",
      "train - 0.62984 | test - 0.55556 \n",
      "train - 0.64386 | test - 0.60000 \n",
      "train - 0.63232 | test - 0.57778 \n",
      "train - 0.63644 | test - 0.57778 \n",
      "train - 0.63644 | test - 0.65926 \n",
      "train - 0.65622 | test - 0.57778 \n",
      "train - 0.64580 | test - 0.58955 \n",
      "train - 0.63839 | test - 0.62687 \n",
      "Average accuracy on cross-validation is 0.59646\n",
      "Std is 0.02848\n",
      "CPU times: user 5.84 s, sys: 447 ms, total: 6.29 s\n",
      "Wall time: 4.28 s\n"
     ]
    }
   ],
   "source": [
    "%%time\n",
    "svm = SVC(probability=True, kernel='linear', random_state=21)\n",
    "cross_validation(lr, x_train, y_train, 'long')"
   ]
  },
  {
   "cell_type": "markdown",
   "metadata": {
    "id": "m3_W8yieVpiz"
   },
   "source": [
    "## In the cells below try different values of the parameter C."
   ]
  },
  {
   "cell_type": "code",
   "execution_count": 18,
   "metadata": {
    "colab": {
     "base_uri": "https://localhost:8080/"
    },
    "id": "5ZsBRp6WJ5nU",
    "outputId": "6fba264a-24c7-4f97-b469-4d1649262aec"
   },
   "outputs": [
    {
     "name": "stdout",
     "output_type": "stream",
     "text": [
      "C = 1:\n",
      "Average accuracy on cross-validation is 0.65871\n",
      "Std is 0.04359\n",
      "--------------------\n",
      "C = 3:\n",
      "Average accuracy on cross-validation is 0.67949\n",
      "Std is 0.04227\n",
      "--------------------\n",
      "C = 5:\n",
      "Average accuracy on cross-validation is 0.69952\n",
      "Std is 0.04542\n",
      "--------------------\n",
      "C = 7:\n",
      "Average accuracy on cross-validation is 0.70694\n",
      "Std is 0.04569\n",
      "--------------------\n",
      "C = 9:\n",
      "Average accuracy on cross-validation is 0.72475\n",
      "Std is 0.04357\n",
      "--------------------\n",
      "C = 11:\n",
      "Average accuracy on cross-validation is 0.73216\n",
      "Std is 0.04472\n",
      "--------------------\n",
      "C = 13:\n",
      "Average accuracy on cross-validation is 0.73364\n",
      "Std is 0.04452\n",
      "--------------------\n",
      "C = 15:\n",
      "Average accuracy on cross-validation is 0.73512\n",
      "Std is 0.04510\n",
      "--------------------\n",
      "C = 17:\n",
      "Average accuracy on cross-validation is 0.73883\n",
      "Std is 0.04161\n",
      "--------------------\n",
      "C = 19:\n",
      "Average accuracy on cross-validation is 0.73883\n",
      "Std is 0.04099\n",
      "--------------------\n"
     ]
    }
   ],
   "source": [
    "for C in range(1, 20, 2):\n",
    "    print(f'C = {C}:')\n",
    "    svc = SVC(probability=True, kernel='linear', random_state=21, C=C)\n",
    "    cross_validation(svc, x_train, y_train)\n",
    "    print(\"--------------------\")"
   ]
  },
  {
   "cell_type": "markdown",
   "metadata": {
    "id": "WbaMzdquV2CE"
   },
   "source": [
    "## Tree\n",
    "## Train a baseline model with the only parameter max_depth=10 and random_state=21.\n",
    "## Use stratified K-fold cross-validation with 10 splits to evaluate the accuracy of the model.\n",
    "## The format of the result of the code where you trained and evaluated the baseline model should be similar to what you have got for the logreg.\n"
   ]
  },
  {
   "cell_type": "code",
   "execution_count": 19,
   "metadata": {
    "colab": {
     "base_uri": "https://localhost:8080/"
    },
    "id": "6-WPwtUYWIJ2",
    "outputId": "526bf6d9-db62-4058-edd4-6658f4c8f49f"
   },
   "outputs": [
    {
     "name": "stdout",
     "output_type": "stream",
     "text": [
      "train - 0.63726 | test - 0.58519 \n",
      "train - 0.64221 | test - 0.61481 \n",
      "train - 0.62984 | test - 0.55556 \n",
      "train - 0.64386 | test - 0.60000 \n",
      "train - 0.63232 | test - 0.57778 \n",
      "train - 0.63644 | test - 0.57778 \n",
      "train - 0.63644 | test - 0.65926 \n",
      "train - 0.65622 | test - 0.57778 \n",
      "train - 0.64580 | test - 0.58955 \n",
      "train - 0.63839 | test - 0.62687 \n",
      "Average accuracy on cross-validation is 0.59646\n",
      "Std is 0.02848\n",
      "CPU times: user 5.75 s, sys: 340 ms, total: 6.09 s\n",
      "Wall time: 4.13 s\n"
     ]
    }
   ],
   "source": [
    "%%time\n",
    "tree = DecisionTreeClassifier(max_depth=10, random_state=21)\n",
    "cross_validation(lr, x_train, y_train, 'long')"
   ]
  },
  {
   "cell_type": "markdown",
   "metadata": {
    "id": "PFsmV2-CXG3e"
   },
   "source": [
    "## In the cells below try different values of the parameter max_depth.\n"
   ]
  },
  {
   "cell_type": "code",
   "execution_count": 20,
   "metadata": {
    "colab": {
     "base_uri": "https://localhost:8080/"
    },
    "id": "OaT5UZsHWmDa",
    "outputId": "e2c1e2d0-dc18-43a5-80eb-ff26b17160c3"
   },
   "outputs": [
    {
     "name": "stdout",
     "output_type": "stream",
     "text": [
      "max_depth=10:\n",
      "Average accuracy on cross-validation is 0.72849\n",
      "Std is 0.03801\n",
      "--------------------\n",
      "max_depth=12:\n",
      "Average accuracy on cross-validation is 0.80709\n",
      "Std is 0.03865\n",
      "--------------------\n",
      "max_depth=14:\n",
      "Average accuracy on cross-validation is 0.85310\n",
      "Std is 0.02351\n",
      "--------------------\n",
      "max_depth=16:\n",
      "Average accuracy on cross-validation is 0.86497\n",
      "Std is 0.02553\n",
      "--------------------\n",
      "max_depth=18:\n",
      "Average accuracy on cross-validation is 0.87981\n",
      "Std is 0.02046\n",
      "--------------------\n",
      "max_depth=20:\n",
      "Average accuracy on cross-validation is 0.88278\n",
      "Std is 0.01660\n",
      "--------------------\n",
      "max_depth=22:\n",
      "Average accuracy on cross-validation is 0.88277\n",
      "Std is 0.02022\n",
      "--------------------\n",
      "max_depth=24:\n",
      "Average accuracy on cross-validation is 0.88574\n",
      "Std is 0.02237\n",
      "--------------------\n",
      "max_depth=26:\n",
      "Average accuracy on cross-validation is 0.88574\n",
      "Std is 0.01737\n",
      "--------------------\n",
      "max_depth=28:\n",
      "Average accuracy on cross-validation is 0.88352\n",
      "Std is 0.02076\n",
      "--------------------\n"
     ]
    }
   ],
   "source": [
    "for max_depth in range(10, 30, 2):\n",
    "    print(f'max_depth={max_depth}:')\n",
    "    tree = DecisionTreeClassifier(max_depth=max_depth, random_state=21)\n",
    "    cross_validation(tree, x_train, y_train)\n",
    "    print(\"--------------------\")"
   ]
  },
  {
   "cell_type": "markdown",
   "metadata": {
    "id": "LTq2zJBaXiKc"
   },
   "source": [
    "## Random forest\n",
    "## Train a baseline model with the only parameters n_estimators=50, max_depth=14, random_state=21.\n",
    "## Use stratified K-fold cross-validation with 10 splits to evaluate the accuracy of the model.\n",
    "## The format of the result of the code where you trained and evaluated the baseline model should be similar to what you have got for the logreg."
   ]
  },
  {
   "cell_type": "code",
   "execution_count": 21,
   "metadata": {
    "colab": {
     "base_uri": "https://localhost:8080/"
    },
    "id": "3xhVXJ9XXreZ",
    "outputId": "2bf680b8-56ac-4a48-99ae-c28763b40d72"
   },
   "outputs": [
    {
     "name": "stdout",
     "output_type": "stream",
     "text": [
      "train - 0.96290 | test - 0.86667 \n",
      "train - 0.96702 | test - 0.91111 \n",
      "train - 0.96620 | test - 0.83704 \n",
      "train - 0.97362 | test - 0.90370 \n",
      "train - 0.96455 | test - 0.91111 \n",
      "train - 0.96867 | test - 0.85926 \n",
      "train - 0.96867 | test - 0.91111 \n",
      "train - 0.96702 | test - 0.87407 \n",
      "train - 0.97117 | test - 0.90299 \n",
      "train - 0.96376 | test - 0.86567 \n",
      "Average accuracy on cross-validation is 0.88427\n",
      "Std is 0.02551\n",
      "CPU times: user 907 ms, sys: 8.79 ms, total: 915 ms\n",
      "Wall time: 914 ms\n"
     ]
    }
   ],
   "source": [
    "%%time\n",
    "random_forest = RandomForestClassifier(n_estimators=50, max_depth=14, random_state=21)\n",
    "cross_validation(random_forest, x_train, y_train, 'long')"
   ]
  },
  {
   "cell_type": "markdown",
   "metadata": {
    "id": "c2QBZXDEYGuA"
   },
   "source": [
    "## In the new cells try different values of the parameters max_depth and n_estimators.\n",
    "## As a bonus, play with other regularization parameters trying to find the best combination."
   ]
  },
  {
   "cell_type": "code",
   "execution_count": null,
   "metadata": {
    "colab": {
     "base_uri": "https://localhost:8080/"
    },
    "id": "8EGWO_I9YIlh",
    "outputId": "c99a778f-b108-456b-8071-4c3d7931bbf1"
   },
   "outputs": [
    {
     "name": "stdout",
     "output_type": "stream",
     "text": [
      "max_depth = 15:\n",
      "n_estimators = 50:\n",
      "Average accuracy on cross-validation is 0.89316\n",
      "Std is 0.01917\n",
      "--------------------\n",
      "max_depth = 15:\n",
      "n_estimators = 70:\n",
      "Average accuracy on cross-validation is 0.89316\n",
      "Std is 0.01741\n",
      "--------------------\n",
      "max_depth = 15:\n",
      "n_estimators = 90:\n",
      "Average accuracy on cross-validation is 0.89242\n",
      "Std is 0.01640\n",
      "--------------------\n",
      "max_depth = 15:\n",
      "n_estimators = 110:\n",
      "Average accuracy on cross-validation is 0.89464\n",
      "Std is 0.01598\n",
      "--------------------\n",
      "max_depth = 15:\n",
      "n_estimators = 130:\n",
      "Average accuracy on cross-validation is 0.89389\n",
      "Std is 0.01742\n",
      "--------------------\n",
      "max_depth = 15:\n",
      "n_estimators = 150:\n",
      "Average accuracy on cross-validation is 0.89463\n",
      "Std is 0.02237\n",
      "--------------------\n",
      "max_depth = 15:\n",
      "n_estimators = 170:\n",
      "Average accuracy on cross-validation is 0.89315\n",
      "Std is 0.01867\n",
      "--------------------\n",
      "max_depth = 15:\n",
      "n_estimators = 190:\n",
      "Average accuracy on cross-validation is 0.89389\n",
      "Std is 0.01677\n",
      "--------------------\n",
      "max_depth = 20:\n",
      "n_estimators = 50:\n",
      "Average accuracy on cross-validation is 0.90874\n",
      "Std is 0.02354\n",
      "--------------------\n",
      "max_depth = 20:\n",
      "n_estimators = 70:\n",
      "Average accuracy on cross-validation is 0.90799\n",
      "Std is 0.02472\n",
      "--------------------\n",
      "max_depth = 20:\n",
      "n_estimators = 90:\n",
      "Average accuracy on cross-validation is 0.91023\n",
      "Std is 0.02239\n",
      "--------------------\n",
      "max_depth = 20:\n",
      "n_estimators = 110:\n",
      "Average accuracy on cross-validation is 0.91098\n",
      "Std is 0.02369\n",
      "--------------------\n",
      "max_depth = 20:\n",
      "n_estimators = 130:\n",
      "Average accuracy on cross-validation is 0.91098\n",
      "Std is 0.02247\n",
      "--------------------\n",
      "max_depth = 20:\n",
      "n_estimators = 150:\n",
      "Average accuracy on cross-validation is 0.91098\n",
      "Std is 0.02149\n",
      "--------------------\n",
      "max_depth = 20:\n",
      "n_estimators = 170:\n",
      "Average accuracy on cross-validation is 0.90949\n",
      "Std is 0.01900\n",
      "--------------------\n",
      "max_depth = 20:\n",
      "n_estimators = 190:\n",
      "Average accuracy on cross-validation is 0.90949\n",
      "Std is 0.01931\n",
      "--------------------\n",
      "max_depth = 25:\n",
      "n_estimators = 50:\n",
      "Average accuracy on cross-validation is 0.91245\n",
      "Std is 0.01933\n",
      "--------------------\n",
      "max_depth = 25:\n",
      "n_estimators = 70:\n",
      "Average accuracy on cross-validation is 0.91247\n",
      "Std is 0.01897\n",
      "--------------------\n",
      "max_depth = 25:\n",
      "n_estimators = 90:\n"
     ]
    }
   ],
   "source": [
    "max_depth = [i for i in range(15, 40, 5)]\n",
    "n_estimators = [i for i in range(50, 200, 20)]\n",
    "for max in max_depth:\n",
    "    for n in n_estimators:\n",
    "        print(f'max_depth = {max}:')\n",
    "        print(f'n_estimators = {n}:')\n",
    "        random_forest = RandomForestClassifier(max_depth=max, random_state=21, n_estimators=n)\n",
    "        cross_validation(random_forest, x_train, y_train)\n",
    "        print(\"--------------------\")"
   ]
  },
  {
   "cell_type": "markdown",
   "metadata": {
    "id": "pZZ7lZ9Db4Wn"
   },
   "source": [
    "## Predictions\n",
    "## Choose the best model and use it to make predictions for the test dataset.\n",
    "## Calculate the final accuracy.\n",
    "## Analyze: for which weekday your model makes the most errors (in % of the total number of samples of that class in your test dataset).\n",
    "## Save the model"
   ]
  },
  {
   "cell_type": "code",
   "execution_count": null,
   "metadata": {
    "colab": {
     "base_uri": "https://localhost:8080/"
    },
    "id": "L95tZMizeAlK",
    "outputId": "fd33643f-b23d-4667-beea-6cb197fc6bb5"
   },
   "outputs": [],
   "source": [
    "random_forest = RandomForestClassifier(max_depth=25, random_state=21, n_estimators=130).fit(x_train, y_train)\n",
    "pred = random_forest.predict(x_test)\n",
    "print(f'Final accuracy is {random_forest.score(x_test, y_test)}')"
   ]
  },
  {
   "cell_type": "code",
   "execution_count": null,
   "metadata": {
    "id": "o8ua1dTQdxbR"
   },
   "outputs": [],
   "source": [
    "with open('../data/random_forest.pkl','wb') as f:\n",
    "    pickle.dump(random_forest, f)"
   ]
  },
  {
   "cell_type": "code",
   "execution_count": null,
   "metadata": {},
   "outputs": [],
   "source": []
  }
 ],
 "metadata": {
  "colab": {
   "collapsed_sections": [],
   "name": "00_regularization.ipynb",
   "provenance": []
  },
  "kernelspec": {
   "display_name": "Python 3",
   "language": "python",
   "name": "python3"
  },
  "language_info": {
   "codemirror_mode": {
    "name": "ipython",
    "version": 3
   },
   "file_extension": ".py",
   "mimetype": "text/x-python",
   "name": "python",
   "nbconvert_exporter": "python",
   "pygments_lexer": "ipython3",
   "version": "3.9.2"
  }
 },
 "nbformat": 4,
 "nbformat_minor": 1
}
