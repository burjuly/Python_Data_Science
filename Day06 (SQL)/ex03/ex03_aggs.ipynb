{
 "cells": [
  {
   "cell_type": "code",
   "execution_count": 1,
   "id": "neither-moses",
   "metadata": {},
   "outputs": [],
   "source": [
    "import pandas as pd\n",
    "import sqlite3"
   ]
  },
  {
   "cell_type": "markdown",
   "id": "instant-cemetery",
   "metadata": {},
   "source": [
    "## create a connection to the database"
   ]
  },
  {
   "cell_type": "code",
   "execution_count": 2,
   "id": "happy-death",
   "metadata": {},
   "outputs": [],
   "source": [
    "db = sqlite3.connect('../data/checking-logs.sqlite.sqlite_copy')"
   ]
  },
  {
   "cell_type": "markdown",
   "id": "extra-virtue",
   "metadata": {},
   "source": [
    "## get the schema of the table test"
   ]
  },
  {
   "cell_type": "code",
   "execution_count": 3,
   "id": "viral-interstate",
   "metadata": {},
   "outputs": [
    {
     "data": {
      "text/html": [
       "<div>\n",
       "<style scoped>\n",
       "    .dataframe tbody tr th:only-of-type {\n",
       "        vertical-align: middle;\n",
       "    }\n",
       "\n",
       "    .dataframe tbody tr th {\n",
       "        vertical-align: top;\n",
       "    }\n",
       "\n",
       "    .dataframe thead th {\n",
       "        text-align: right;\n",
       "    }\n",
       "</style>\n",
       "<table border=\"1\" class=\"dataframe\">\n",
       "  <thead>\n",
       "    <tr style=\"text-align: right;\">\n",
       "      <th></th>\n",
       "      <th>cid</th>\n",
       "      <th>name</th>\n",
       "      <th>type</th>\n",
       "      <th>notnull</th>\n",
       "      <th>dflt_value</th>\n",
       "      <th>pk</th>\n",
       "    </tr>\n",
       "  </thead>\n",
       "  <tbody>\n",
       "    <tr>\n",
       "      <th>0</th>\n",
       "      <td>0</td>\n",
       "      <td>uid</td>\n",
       "      <td>TEXT</td>\n",
       "      <td>0</td>\n",
       "      <td>None</td>\n",
       "      <td>0</td>\n",
       "    </tr>\n",
       "    <tr>\n",
       "      <th>1</th>\n",
       "      <td>1</td>\n",
       "      <td>labname</td>\n",
       "      <td>TEXT</td>\n",
       "      <td>0</td>\n",
       "      <td>None</td>\n",
       "      <td>0</td>\n",
       "    </tr>\n",
       "    <tr>\n",
       "      <th>2</th>\n",
       "      <td>2</td>\n",
       "      <td>first_commit_ts</td>\n",
       "      <td>TIMESTAMP</td>\n",
       "      <td>0</td>\n",
       "      <td>None</td>\n",
       "      <td>0</td>\n",
       "    </tr>\n",
       "    <tr>\n",
       "      <th>3</th>\n",
       "      <td>3</td>\n",
       "      <td>first_view_ts</td>\n",
       "      <td>TIMESTAMP</td>\n",
       "      <td>0</td>\n",
       "      <td>None</td>\n",
       "      <td>0</td>\n",
       "    </tr>\n",
       "  </tbody>\n",
       "</table>\n",
       "</div>"
      ],
      "text/plain": [
       "   cid             name       type  notnull dflt_value  pk\n",
       "0    0              uid       TEXT        0       None   0\n",
       "1    1          labname       TEXT        0       None   0\n",
       "2    2  first_commit_ts  TIMESTAMP        0       None   0\n",
       "3    3    first_view_ts  TIMESTAMP        0       None   0"
      ]
     },
     "execution_count": 3,
     "metadata": {},
     "output_type": "execute_result"
    }
   ],
   "source": [
    "query = 'PRAGMA table_info(test);'\n",
    "pd.io.sql.read_sql(query, db)"
   ]
  },
  {
   "cell_type": "markdown",
   "id": "another-exposure",
   "metadata": {},
   "source": [
    "## get only the first 10 rows of the table test to check what the table looks like"
   ]
  },
  {
   "cell_type": "code",
   "execution_count": 4,
   "id": "current-cursor",
   "metadata": {},
   "outputs": [
    {
     "data": {
      "text/html": [
       "<div>\n",
       "<style scoped>\n",
       "    .dataframe tbody tr th:only-of-type {\n",
       "        vertical-align: middle;\n",
       "    }\n",
       "\n",
       "    .dataframe tbody tr th {\n",
       "        vertical-align: top;\n",
       "    }\n",
       "\n",
       "    .dataframe thead th {\n",
       "        text-align: right;\n",
       "    }\n",
       "</style>\n",
       "<table border=\"1\" class=\"dataframe\">\n",
       "  <thead>\n",
       "    <tr style=\"text-align: right;\">\n",
       "      <th></th>\n",
       "      <th>uid</th>\n",
       "      <th>labname</th>\n",
       "      <th>first_commit_ts</th>\n",
       "      <th>first_view_ts</th>\n",
       "    </tr>\n",
       "  </thead>\n",
       "  <tbody>\n",
       "    <tr>\n",
       "      <th>0</th>\n",
       "      <td>user_1</td>\n",
       "      <td>laba04</td>\n",
       "      <td>2020-04-26 17:06:18.462708</td>\n",
       "      <td>2020-04-26 21:53:59.624136</td>\n",
       "    </tr>\n",
       "    <tr>\n",
       "      <th>1</th>\n",
       "      <td>user_10</td>\n",
       "      <td>laba04</td>\n",
       "      <td>2020-04-25 08:24:52.696624</td>\n",
       "      <td>2020-04-18 12:19:50.182714</td>\n",
       "    </tr>\n",
       "    <tr>\n",
       "      <th>2</th>\n",
       "      <td>user_14</td>\n",
       "      <td>laba04</td>\n",
       "      <td>2020-04-18 15:14:00.312338</td>\n",
       "      <td>2020-04-18 10:53:52.623447</td>\n",
       "    </tr>\n",
       "    <tr>\n",
       "      <th>3</th>\n",
       "      <td>user_17</td>\n",
       "      <td>laba04</td>\n",
       "      <td>2020-04-23 14:24:29.947554</td>\n",
       "      <td>2020-04-18 10:56:55.833899</td>\n",
       "    </tr>\n",
       "    <tr>\n",
       "      <th>4</th>\n",
       "      <td>user_18</td>\n",
       "      <td>laba04</td>\n",
       "      <td>2020-04-26 19:48:11.822365</td>\n",
       "      <td>2020-04-26 22:49:29.243278</td>\n",
       "    </tr>\n",
       "    <tr>\n",
       "      <th>5</th>\n",
       "      <td>user_19</td>\n",
       "      <td>laba04</td>\n",
       "      <td>2020-04-20 19:05:01.297780</td>\n",
       "      <td>2020-04-21 20:30:38.034966</td>\n",
       "    </tr>\n",
       "    <tr>\n",
       "      <th>6</th>\n",
       "      <td>user_21</td>\n",
       "      <td>laba04</td>\n",
       "      <td>2020-04-21 17:48:00.487806</td>\n",
       "      <td>2020-04-22 22:40:36.824081</td>\n",
       "    </tr>\n",
       "    <tr>\n",
       "      <th>7</th>\n",
       "      <td>user_25</td>\n",
       "      <td>laba04</td>\n",
       "      <td>2020-04-20 19:16:50.673054</td>\n",
       "      <td>2020-05-09 23:54:54.260791</td>\n",
       "    </tr>\n",
       "    <tr>\n",
       "      <th>8</th>\n",
       "      <td>user_28</td>\n",
       "      <td>laba04</td>\n",
       "      <td>2020-04-22 21:47:19.707242</td>\n",
       "      <td>2020-05-10 21:07:50.350946</td>\n",
       "    </tr>\n",
       "    <tr>\n",
       "      <th>9</th>\n",
       "      <td>user_3</td>\n",
       "      <td>laba04</td>\n",
       "      <td>2020-04-23 20:29:14.054364</td>\n",
       "      <td>2020-05-08 10:53:47.123832</td>\n",
       "    </tr>\n",
       "  </tbody>\n",
       "</table>\n",
       "</div>"
      ],
      "text/plain": [
       "       uid labname             first_commit_ts               first_view_ts\n",
       "0   user_1  laba04  2020-04-26 17:06:18.462708  2020-04-26 21:53:59.624136\n",
       "1  user_10  laba04  2020-04-25 08:24:52.696624  2020-04-18 12:19:50.182714\n",
       "2  user_14  laba04  2020-04-18 15:14:00.312338  2020-04-18 10:53:52.623447\n",
       "3  user_17  laba04  2020-04-23 14:24:29.947554  2020-04-18 10:56:55.833899\n",
       "4  user_18  laba04  2020-04-26 19:48:11.822365  2020-04-26 22:49:29.243278\n",
       "5  user_19  laba04  2020-04-20 19:05:01.297780  2020-04-21 20:30:38.034966\n",
       "6  user_21  laba04  2020-04-21 17:48:00.487806  2020-04-22 22:40:36.824081\n",
       "7  user_25  laba04  2020-04-20 19:16:50.673054  2020-05-09 23:54:54.260791\n",
       "8  user_28  laba04  2020-04-22 21:47:19.707242  2020-05-10 21:07:50.350946\n",
       "9   user_3  laba04  2020-04-23 20:29:14.054364  2020-05-08 10:53:47.123832"
      ]
     },
     "execution_count": 4,
     "metadata": {},
     "output_type": "execute_result"
    }
   ],
   "source": [
    "query = 'SELECT * FROM test LIMIT 10;'\n",
    "pd.io.sql.read_sql(query, db)"
   ]
  },
  {
   "cell_type": "markdown",
   "id": "dynamic-blink",
   "metadata": {},
   "source": [
    "## find among all the users the minimum value of the delta between the first commit of the user and the deadline"
   ]
  },
  {
   "cell_type": "code",
   "execution_count": 5,
   "id": "productive-bulgaria",
   "metadata": {},
   "outputs": [
    {
     "data": {
      "text/html": [
       "<div>\n",
       "<style scoped>\n",
       "    .dataframe tbody tr th:only-of-type {\n",
       "        vertical-align: middle;\n",
       "    }\n",
       "\n",
       "    .dataframe tbody tr th {\n",
       "        vertical-align: top;\n",
       "    }\n",
       "\n",
       "    .dataframe thead th {\n",
       "        text-align: right;\n",
       "    }\n",
       "</style>\n",
       "<table border=\"1\" class=\"dataframe\">\n",
       "  <thead>\n",
       "    <tr style=\"text-align: right;\">\n",
       "      <th></th>\n",
       "      <th>uid</th>\n",
       "      <th>dif</th>\n",
       "    </tr>\n",
       "  </thead>\n",
       "  <tbody>\n",
       "    <tr>\n",
       "      <th>0</th>\n",
       "      <td>user_25</td>\n",
       "      <td>2</td>\n",
       "    </tr>\n",
       "  </tbody>\n",
       "</table>\n",
       "</div>"
      ],
      "text/plain": [
       "       uid  dif\n",
       "0  user_25    2"
      ]
     },
     "execution_count": 5,
     "metadata": {},
     "output_type": "execute_result"
    }
   ],
   "source": [
    "query = '''\n",
    "    SELECT uid, (MIN(deadlines.deadlines - strftime('%s', test.first_commit_ts)) /  3600) as dif FROM test \n",
    "    LEFT JOIN deadlines \n",
    "    ON labs = labname \n",
    "    WHERE labname != 'project1'\n",
    "    ;'''\n",
    "df_min = pd.io.sql.read_sql(query, db)\n",
    "df_min"
   ]
  },
  {
   "cell_type": "markdown",
   "id": "classical-lobby",
   "metadata": {},
   "source": [
    "## do the same thing, but for the maximum, using only one query, the dataframe name is df_max"
   ]
  },
  {
   "cell_type": "code",
   "execution_count": 6,
   "id": "pediatric-labor",
   "metadata": {},
   "outputs": [
    {
     "data": {
      "text/html": [
       "<div>\n",
       "<style scoped>\n",
       "    .dataframe tbody tr th:only-of-type {\n",
       "        vertical-align: middle;\n",
       "    }\n",
       "\n",
       "    .dataframe tbody tr th {\n",
       "        vertical-align: top;\n",
       "    }\n",
       "\n",
       "    .dataframe thead th {\n",
       "        text-align: right;\n",
       "    }\n",
       "</style>\n",
       "<table border=\"1\" class=\"dataframe\">\n",
       "  <thead>\n",
       "    <tr style=\"text-align: right;\">\n",
       "      <th></th>\n",
       "      <th>uid</th>\n",
       "      <th>dif</th>\n",
       "    </tr>\n",
       "  </thead>\n",
       "  <tbody>\n",
       "    <tr>\n",
       "      <th>0</th>\n",
       "      <td>user_30</td>\n",
       "      <td>202</td>\n",
       "    </tr>\n",
       "  </tbody>\n",
       "</table>\n",
       "</div>"
      ],
      "text/plain": [
       "       uid  dif\n",
       "0  user_30  202"
      ]
     },
     "execution_count": 6,
     "metadata": {},
     "output_type": "execute_result"
    }
   ],
   "source": [
    "query = '''\n",
    "    SELECT uid, (MAX(deadlines.deadlines - strftime('%s', test.first_commit_ts)) /  3600) as dif FROM test \n",
    "    LEFT JOIN deadlines \n",
    "    ON labs = labname \n",
    "    WHERE labname != 'project1'\n",
    "    ;'''\n",
    "df_max = pd.io.sql.read_sql(query, db)\n",
    "df_max"
   ]
  },
  {
   "cell_type": "markdown",
   "id": "ceramic-responsibility",
   "metadata": {},
   "source": [
    "## do the same thing but for the average"
   ]
  },
  {
   "cell_type": "code",
   "execution_count": 7,
   "id": "marked-massachusetts",
   "metadata": {},
   "outputs": [
    {
     "data": {
      "text/html": [
       "<div>\n",
       "<style scoped>\n",
       "    .dataframe tbody tr th:only-of-type {\n",
       "        vertical-align: middle;\n",
       "    }\n",
       "\n",
       "    .dataframe tbody tr th {\n",
       "        vertical-align: top;\n",
       "    }\n",
       "\n",
       "    .dataframe thead th {\n",
       "        text-align: right;\n",
       "    }\n",
       "</style>\n",
       "<table border=\"1\" class=\"dataframe\">\n",
       "  <thead>\n",
       "    <tr style=\"text-align: right;\">\n",
       "      <th></th>\n",
       "      <th>uid</th>\n",
       "      <th>dif</th>\n",
       "    </tr>\n",
       "  </thead>\n",
       "  <tbody>\n",
       "    <tr>\n",
       "      <th>0</th>\n",
       "      <td>user_1</td>\n",
       "      <td>89.687841</td>\n",
       "    </tr>\n",
       "  </tbody>\n",
       "</table>\n",
       "</div>"
      ],
      "text/plain": [
       "      uid        dif\n",
       "0  user_1  89.687841"
      ]
     },
     "execution_count": 7,
     "metadata": {},
     "output_type": "execute_result"
    }
   ],
   "source": [
    "query = '''\n",
    "    SELECT uid, (AVG(deadlines.deadlines - strftime('%s', test.first_commit_ts)) /  3600) as dif FROM test \n",
    "    LEFT JOIN deadlines \n",
    "    ON labs = labname \n",
    "    WHERE labname != 'project1'\n",
    "    ;'''\n",
    "df_avg = pd.io.sql.read_sql(query, db)\n",
    "df_avg"
   ]
  },
  {
   "cell_type": "code",
   "execution_count": 8,
   "id": "affected-pursuit",
   "metadata": {},
   "outputs": [
    {
     "data": {
      "text/html": [
       "<div>\n",
       "<style scoped>\n",
       "    .dataframe tbody tr th:only-of-type {\n",
       "        vertical-align: middle;\n",
       "    }\n",
       "\n",
       "    .dataframe tbody tr th {\n",
       "        vertical-align: top;\n",
       "    }\n",
       "\n",
       "    .dataframe thead th {\n",
       "        text-align: right;\n",
       "    }\n",
       "</style>\n",
       "<table border=\"1\" class=\"dataframe\">\n",
       "  <thead>\n",
       "    <tr style=\"text-align: right;\">\n",
       "      <th></th>\n",
       "      <th>uid</th>\n",
       "      <th>diff</th>\n",
       "      <th>pageviews</th>\n",
       "    </tr>\n",
       "  </thead>\n",
       "  <tbody>\n",
       "    <tr>\n",
       "      <th>0</th>\n",
       "      <td>user_1</td>\n",
       "      <td>65.119778</td>\n",
       "      <td>28</td>\n",
       "    </tr>\n",
       "    <tr>\n",
       "      <th>1</th>\n",
       "      <td>user_10</td>\n",
       "      <td>75.242444</td>\n",
       "      <td>89</td>\n",
       "    </tr>\n",
       "    <tr>\n",
       "      <th>2</th>\n",
       "      <td>user_14</td>\n",
       "      <td>159.568796</td>\n",
       "      <td>143</td>\n",
       "    </tr>\n",
       "    <tr>\n",
       "      <th>3</th>\n",
       "      <td>user_17</td>\n",
       "      <td>62.207667</td>\n",
       "      <td>47</td>\n",
       "    </tr>\n",
       "    <tr>\n",
       "      <th>4</th>\n",
       "      <td>user_18</td>\n",
       "      <td>6.368148</td>\n",
       "      <td>3</td>\n",
       "    </tr>\n",
       "    <tr>\n",
       "      <th>5</th>\n",
       "      <td>user_19</td>\n",
       "      <td>99.440417</td>\n",
       "      <td>16</td>\n",
       "    </tr>\n",
       "    <tr>\n",
       "      <th>6</th>\n",
       "      <td>user_21</td>\n",
       "      <td>96.111181</td>\n",
       "      <td>10</td>\n",
       "    </tr>\n",
       "    <tr>\n",
       "      <th>7</th>\n",
       "      <td>user_25</td>\n",
       "      <td>93.474944</td>\n",
       "      <td>179</td>\n",
       "    </tr>\n",
       "    <tr>\n",
       "      <th>8</th>\n",
       "      <td>user_28</td>\n",
       "      <td>86.793833</td>\n",
       "      <td>149</td>\n",
       "    </tr>\n",
       "    <tr>\n",
       "      <th>9</th>\n",
       "      <td>user_3</td>\n",
       "      <td>105.738222</td>\n",
       "      <td>317</td>\n",
       "    </tr>\n",
       "    <tr>\n",
       "      <th>10</th>\n",
       "      <td>user_30</td>\n",
       "      <td>145.528681</td>\n",
       "      <td>3</td>\n",
       "    </tr>\n",
       "  </tbody>\n",
       "</table>\n",
       "</div>"
      ],
      "text/plain": [
       "        uid        diff  pageviews\n",
       "0    user_1   65.119778         28\n",
       "1   user_10   75.242444         89\n",
       "2   user_14  159.568796        143\n",
       "3   user_17   62.207667         47\n",
       "4   user_18    6.368148          3\n",
       "5   user_19   99.440417         16\n",
       "6   user_21   96.111181         10\n",
       "7   user_25   93.474944        179\n",
       "8   user_28   86.793833        149\n",
       "9    user_3  105.738222        317\n",
       "10  user_30  145.528681          3"
      ]
     },
     "execution_count": 8,
     "metadata": {},
     "output_type": "execute_result"
    }
   ],
   "source": [
    "query = '''\n",
    "    SELECT sub.uid, sub.diff, pageviews\n",
    "    FROM (\n",
    "        SELECT uid, (AVG(deadlines.deadlines - strftime('%s', test.first_commit_ts)) /  3600) AS diff\n",
    "        FROM test\n",
    "        LEFT JOIN deadlines ON deadlines.labs = test.labname\n",
    "        WHERE labname != 'project1'\n",
    "        GROUP BY uid\n",
    "    ) as sub\n",
    "    LEFT JOIN\n",
    "        (SELECT uid, COUNT(*) as pageviews \n",
    "        FROM pageviews \n",
    "        GROUP BY uid) as pv ON pv.uid = sub.uid\n",
    "    ;'''\n",
    "pd.io.sql.read_sql(query, db).to_sql('views_diff', db, if_exists='replace', index=False)\n",
    "views_diff = pd.io.sql.read_sql(query, db) \n",
    "views_diff"
   ]
  },
  {
   "cell_type": "markdown",
   "id": "taken-democrat",
   "metadata": {},
   "source": [
    "## Use the Pandas method corr() to calculate the correlation coefficient between the number of pageviews and the difference"
   ]
  },
  {
   "cell_type": "code",
   "execution_count": 9,
   "id": "biblical-rotation",
   "metadata": {},
   "outputs": [
    {
     "data": {
      "text/html": [
       "<div>\n",
       "<style scoped>\n",
       "    .dataframe tbody tr th:only-of-type {\n",
       "        vertical-align: middle;\n",
       "    }\n",
       "\n",
       "    .dataframe tbody tr th {\n",
       "        vertical-align: top;\n",
       "    }\n",
       "\n",
       "    .dataframe thead th {\n",
       "        text-align: right;\n",
       "    }\n",
       "</style>\n",
       "<table border=\"1\" class=\"dataframe\">\n",
       "  <thead>\n",
       "    <tr style=\"text-align: right;\">\n",
       "      <th></th>\n",
       "      <th>diff</th>\n",
       "      <th>pageviews</th>\n",
       "    </tr>\n",
       "  </thead>\n",
       "  <tbody>\n",
       "    <tr>\n",
       "      <th>diff</th>\n",
       "      <td>1.000000</td>\n",
       "      <td>0.279143</td>\n",
       "    </tr>\n",
       "    <tr>\n",
       "      <th>pageviews</th>\n",
       "      <td>0.279143</td>\n",
       "      <td>1.000000</td>\n",
       "    </tr>\n",
       "  </tbody>\n",
       "</table>\n",
       "</div>"
      ],
      "text/plain": [
       "               diff  pageviews\n",
       "diff       1.000000   0.279143\n",
       "pageviews  0.279143   1.000000"
      ]
     },
     "execution_count": 9,
     "metadata": {},
     "output_type": "execute_result"
    }
   ],
   "source": [
    "views_diff.corr()"
   ]
  },
  {
   "cell_type": "markdown",
   "id": "wrong-classification",
   "metadata": {},
   "source": [
    "## close the connection"
   ]
  },
  {
   "cell_type": "code",
   "execution_count": 10,
   "id": "divine-hawaiian",
   "metadata": {},
   "outputs": [],
   "source": [
    "db.close()"
   ]
  },
  {
   "cell_type": "code",
   "execution_count": null,
   "id": "loaded-documentation",
   "metadata": {},
   "outputs": [],
   "source": []
  }
 ],
 "metadata": {
  "interpreter": {
   "hash": "0bc2b3fc9ef142b519a46e857be87fdb549b4839165f47549b0447dab3a457f7"
  },
  "kernelspec": {
   "display_name": "Python 3",
   "language": "python",
   "name": "python3"
  },
  "language_info": {
   "codemirror_mode": {
    "name": "ipython",
    "version": 3
   },
   "file_extension": ".py",
   "mimetype": "text/x-python",
   "name": "python",
   "nbconvert_exporter": "python",
   "pygments_lexer": "ipython3",
   "version": "3.9.2"
  }
 },
 "nbformat": 4,
 "nbformat_minor": 5
}
