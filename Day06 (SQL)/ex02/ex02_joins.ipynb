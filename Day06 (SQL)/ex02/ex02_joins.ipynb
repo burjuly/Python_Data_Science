{
 "cells": [
  {
   "cell_type": "code",
   "execution_count": 15,
   "id": "daily-cookie",
   "metadata": {},
   "outputs": [],
   "source": [
    "import pandas as pd\n",
    "import sqlite3"
   ]
  },
  {
   "cell_type": "markdown",
   "id": "seeing-pledge",
   "metadata": {},
   "source": [
    "## create a connection to the database using the library sqlite3"
   ]
  },
  {
   "cell_type": "code",
   "execution_count": 16,
   "id": "coated-offset",
   "metadata": {},
   "outputs": [],
   "source": [
    "db = sqlite3.connect('../data/checking-logs.sqlite.sqlite_copy')"
   ]
  },
  {
   "cell_type": "markdown",
   "id": "uniform-genome",
   "metadata": {},
   "source": [
    "## create a new table datamart in the database by joining the tables pageviews and checker using only one query the table should have the"
   ]
  },
  {
   "cell_type": "code",
   "execution_count": 17,
   "id": "rolled-pillow",
   "metadata": {},
   "outputs": [],
   "source": [
    "query = '''\n",
    "SELECT uid, labname, min(timestamp) as first_commit_ts, first_view_ts FROM checker\n",
    "LEFT JOIN\n",
    "    (SELECT uid as uid_pv, min(datetime) as first_view_ts FROM pageviews\n",
    "    WHERE uid LIKE \"user_%\"\n",
    "    GROUP BY uid_pv) as pv ON checker.uid = pv.uid_pv\n",
    "WHERE status = \"ready\"\n",
    "AND numTrials = 1\n",
    "AND uid LIKE \"user_%\"\n",
    "AND labname IN (\"laba04\", \"laba04s\", \"laba05\", \"laba06\", \"laba06s\", \"project1\")\n",
    "GROUP BY labname, uid ;'''\n",
    "pd.io.sql.read_sql(query, db, parse_dates=['first_commit_ts', 'first_view_ts']).to_sql('datamart', db, if_exists='replace', index=False)"
   ]
  },
  {
   "cell_type": "markdown",
   "id": "preliminary-foster",
   "metadata": {},
   "source": [
    "## using Pandas methods, create two dataframes: test and control"
   ]
  },
  {
   "cell_type": "code",
   "execution_count": 18,
   "id": "fatal-wallpaper",
   "metadata": {},
   "outputs": [],
   "source": [
    "query = 'SELECT * FROM datamart ;'\n",
    "df = pd.io.sql.read_sql(query, db, parse_dates=['first_commit_ts', 'first_view_ts'])"
   ]
  },
  {
   "cell_type": "markdown",
   "id": "matched-orchestra",
   "metadata": {},
   "source": [
    "## test should have the users that have the values in first_view_ts. Control should have the users that have missing values in first_view_ts"
   ]
  },
  {
   "cell_type": "code",
   "execution_count": 19,
   "id": "packed-stanford",
   "metadata": {},
   "outputs": [],
   "source": [
    "with_views = df['first_view_ts'].notnull()\n",
    "no_views = df['first_view_ts'].isnull()\n",
    "test = df[with_views].copy()\n",
    "control = df[no_views].copy()"
   ]
  },
  {
   "cell_type": "markdown",
   "id": "romantic-northern",
   "metadata": {},
   "source": [
    "## replace the missing values in the control with the average first_view_ts of the test users, we will use this value for the future analysis"
   ]
  },
  {
   "cell_type": "code",
   "execution_count": 20,
   "id": "alpine-temperature",
   "metadata": {},
   "outputs": [],
   "source": [
    "control.fillna({'first_view_ts' : test['first_view_ts'].mean()}, inplace=True)\n",
    "test.to_sql('test', db, if_exists='replace', index=False)\n",
    "control.to_sql('control', db, if_exists='replace', index=False)"
   ]
  },
  {
   "cell_type": "markdown",
   "id": "referenced-contract",
   "metadata": {},
   "source": [
    "## close the connection"
   ]
  },
  {
   "cell_type": "code",
   "execution_count": 21,
   "id": "complete-spotlight",
   "metadata": {},
   "outputs": [],
   "source": [
    "db.close()"
   ]
  },
  {
   "cell_type": "code",
   "execution_count": null,
   "id": "european-practitioner",
   "metadata": {},
   "outputs": [],
   "source": []
  }
 ],
 "metadata": {
  "interpreter": {
   "hash": "0bc2b3fc9ef142b519a46e857be87fdb549b4839165f47549b0447dab3a457f7"
  },
  "kernelspec": {
   "name": "python3",
   "display_name": "Python 3.8.10 64-bit (windows store)"
  },
  "language_info": {
   "codemirror_mode": {
    "name": "ipython",
    "version": 3
   },
   "file_extension": ".py",
   "mimetype": "text/x-python",
   "name": "python",
   "nbconvert_exporter": "python",
   "pygments_lexer": "ipython3",
   "version": "3.8.10"
  }
 },
 "nbformat": 4,
 "nbformat_minor": 5
}